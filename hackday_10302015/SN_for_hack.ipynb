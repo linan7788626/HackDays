{
 "cells": [
  {
   "cell_type": "code",
   "execution_count": 1,
   "metadata": {
    "collapsed": false
   },
   "outputs": [
    {
     "name": "stderr",
     "output_type": "stream",
     "text": [
      "/Users/uranus/anaconda/lib/python2.7/site-packages/matplotlib/__init__.py:872: UserWarning: axes.color_cycle is deprecated and replaced with axes.prop_cycle; please use the latter.\n",
      "  warnings.warn(self.msg_depr % (key, alt_key))\n"
     ]
    }
   ],
   "source": [
    "import numpy as np\n",
    "%matplotlib inline \n",
    "import matplotlib.pyplot as plt"
   ]
  },
  {
   "cell_type": "code",
   "execution_count": 2,
   "metadata": {
    "collapsed": false
   },
   "outputs": [
    {
     "ename": "ImportError",
     "evalue": "No module named sncosmo",
     "output_type": "error",
     "traceback": [
      "\u001b[0;31m---------------------------------------------------------------------------\u001b[0m",
      "\u001b[0;31mImportError\u001b[0m                               Traceback (most recent call last)",
      "\u001b[0;32m<ipython-input-2-d96e2eca5309>\u001b[0m in \u001b[0;36m<module>\u001b[0;34m()\u001b[0m\n\u001b[1;32m      1\u001b[0m \u001b[0;32mfrom\u001b[0m \u001b[0mastropy\u001b[0m\u001b[0;34m.\u001b[0m\u001b[0munits\u001b[0m \u001b[0;32mimport\u001b[0m \u001b[0mUnit\u001b[0m\u001b[0;34m\u001b[0m\u001b[0m\n\u001b[0;32m----> 2\u001b[0;31m \u001b[0;32mimport\u001b[0m \u001b[0msncosmo\u001b[0m\u001b[0;34m\u001b[0m\u001b[0m\n\u001b[0m",
      "\u001b[0;31mImportError\u001b[0m: No module named sncosmo"
     ]
    }
   ],
   "source": [
    "from astropy.units import Unit\n",
    "import sncosmo"
   ]
  },
  {
   "cell_type": "code",
   "execution_count": 4,
   "metadata": {
    "collapsed": false
   },
   "outputs": [
    {
     "ename": "ImportError",
     "evalue": "No module named OpSimSummary",
     "output_type": "error",
     "traceback": [
      "\u001b[0;31m---------------------------------------------------------------------------\u001b[0m",
      "\u001b[0;31mImportError\u001b[0m                               Traceback (most recent call last)",
      "\u001b[0;32m<ipython-input-4-e85277905b64>\u001b[0m in \u001b[0;36m<module>\u001b[0;34m()\u001b[0m\n\u001b[0;32m----> 1\u001b[0;31m \u001b[0;32mfrom\u001b[0m \u001b[0mOpSimSummary\u001b[0m \u001b[0;32mimport\u001b[0m \u001b[0msummarize_opsim\u001b[0m \u001b[0;32mas\u001b[0m \u001b[0mso\u001b[0m\u001b[0;34m\u001b[0m\u001b[0m\n\u001b[0m\u001b[1;32m      2\u001b[0m \u001b[0;32mfrom\u001b[0m \u001b[0msqlalchemy\u001b[0m \u001b[0;32mimport\u001b[0m \u001b[0mcreate_engine\u001b[0m\u001b[0;34m\u001b[0m\u001b[0m\n\u001b[1;32m      3\u001b[0m \u001b[0;32mimport\u001b[0m \u001b[0mpandas\u001b[0m \u001b[0;32mas\u001b[0m \u001b[0mpd\u001b[0m\u001b[0;34m\u001b[0m\u001b[0m\n",
      "\u001b[0;31mImportError\u001b[0m: No module named OpSimSummary"
     ]
    }
   ],
   "source": [
    "from OpSimSummary import summarize_opsim as so\n",
    "from sqlalchemy import create_engine\n",
    "import pandas as pd"
   ]
  },
  {
   "cell_type": "code",
   "execution_count": 4,
   "metadata": {
    "collapsed": false
   },
   "outputs": [],
   "source": [
    "dbname = '/Users/rbiswas/data/LSST/OpSimData/enigma_1189_sqlite.db'\n",
    "#opsdb = db.OpsimDatabase(dbname)\n",
    "#propID, propTags = opsdb.fetchPropInfo()\n",
    "#DD = propTags['DD'][0]\n",
    "#WFD = propTags['WFD'][0]\n",
    "# Read in the OpSim DataBas"
   ]
  },
  {
   "cell_type": "code",
   "execution_count": 5,
   "metadata": {
    "collapsed": true
   },
   "outputs": [],
   "source": [
    "from lsst.sims.maf import db\n",
    "from lsst.sims.maf.utils import opsimUtils"
   ]
  },
  {
   "cell_type": "code",
   "execution_count": 6,
   "metadata": {
    "collapsed": false
   },
   "outputs": [],
   "source": [
    "engine = create_engine('sqlite:///' + dbname)"
   ]
  },
  {
   "cell_type": "code",
   "execution_count": 7,
   "metadata": {
    "collapsed": true
   },
   "outputs": [],
   "source": [
    "EnigmaDeep_direct = pd.read_sql_query('SELECT * FROM SUMMARY WHERE PROPID is 366 and fieldId is 290', \n",
    "                                      engine, index_col='obsHistID')"
   ]
  },
  {
   "cell_type": "code",
   "execution_count": 8,
   "metadata": {
    "collapsed": true
   },
   "outputs": [],
   "source": [
    "summary = so.SummaryOpsim(EnigmaDeep_direct)"
   ]
  },
  {
   "cell_type": "code",
   "execution_count": 9,
   "metadata": {
    "collapsed": false
   },
   "outputs": [
    {
     "name": "stderr",
     "output_type": "stream",
     "text": [
      "/usr/local/manual/anaconda/lib/python2.7/site-packages/matplotlib/collections.py:590: FutureWarning: elementwise comparison failed; returning scalar instead, but in the future will perform elementwise comparison\n",
      "  if self._edgecolors == str('face'):\n"
     ]
    },
    {
     "data": {
      "image/png": "[encoded data removed]",
      "text/plain": [
       "<matplotlib.figure.Figure at 0x10c9ce5d0>"
      ]
     },
     "metadata": {},
     "output_type": "display_data"
    }
   ],
   "source": [
    "cadence_fig, cadence_mat = summary.cadence_plot(290)"
   ]
  },
  {
   "cell_type": "code",
   "execution_count": 29,
   "metadata": {
    "collapsed": false
   },
   "outputs": [
    {
     "data": {
      "text/plain": [
       "49603"
      ]
     },
     "execution_count": 29,
     "metadata": {},
     "output_type": "execute_result"
    }
   ],
   "source": [
    "summary.mjdvalfornight(250)"
   ]
  },
  {
   "cell_type": "code",
   "execution_count": 11,
   "metadata": {
    "collapsed": false
   },
   "outputs": [
    {
     "data": {
      "image/png": "[encoded data removed]",
      "text/plain": [
       "<matplotlib.figure.Figure at 0x10db26310>"
      ]
     },
     "metadata": {},
     "output_type": "display_data"
    }
   ],
   "source": [
    "fig, mat = summary.cadence_plot(290, mjd_center=49603, mjd_range=[-50, 50])"
   ]
  },
  {
   "cell_type": "code",
   "execution_count": 12,
   "metadata": {
    "collapsed": false
   },
   "outputs": [],
   "source": [
    "x = EnigmaDeep_direct.query('night > 200 and night < 300').copy(deep=True)"
   ]
  },
  {
   "cell_type": "code",
   "execution_count": 13,
   "metadata": {
    "collapsed": true
   },
   "outputs": [],
   "source": [
    "x = x[x['filter']=='r']"
   ]
  },
  {
   "cell_type": "code",
   "execution_count": 31,
   "metadata": {
    "collapsed": false
   },
   "outputs": [
    {
     "data": {
      "text/plain": [
       "280"
      ]
     },
     "execution_count": 31,
     "metadata": {},
     "output_type": "execute_result"
    }
   ],
   "source": [
    "len(x)"
   ]
  },
  {
   "cell_type": "code",
   "execution_count": 14,
   "metadata": {
    "collapsed": false
   },
   "outputs": [
    {
     "data": {
      "text/html": [
       "<div style=\"max-height:1000px;max-width:1500px;overflow:auto;\">\n",
       "<table border=\"1\" class=\"dataframe\">\n",
       "  <thead>\n",
       "    <tr style=\"text-align: right;\">\n",
       "      <th></th>\n",
       "      <th>filter</th>\n",
       "      <th>expMJD</th>\n",
       "    </tr>\n",
       "    <tr>\n",
       "      <th>obsHistID</th>\n",
       "      <th></th>\n",
       "      <th></th>\n",
       "    </tr>\n",
       "  </thead>\n",
       "  <tbody>\n",
       "    <tr>\n",
       "      <th>165827</th>\n",
       "      <td>r</td>\n",
       "      <td>49561.251252</td>\n",
       "    </tr>\n",
       "    <tr>\n",
       "      <th>165828</th>\n",
       "      <td>r</td>\n",
       "      <td>49561.251681</td>\n",
       "    </tr>\n",
       "    <tr>\n",
       "      <th>165829</th>\n",
       "      <td>r</td>\n",
       "      <td>49561.252109</td>\n",
       "    </tr>\n",
       "    <tr>\n",
       "      <th>165830</th>\n",
       "      <td>r</td>\n",
       "      <td>49561.252526</td>\n",
       "    </tr>\n",
       "    <tr>\n",
       "      <th>165831</th>\n",
       "      <td>r</td>\n",
       "      <td>49561.252942</td>\n",
       "    </tr>\n",
       "  </tbody>\n",
       "</table>\n",
       "</div>"
      ],
      "text/plain": [
       "          filter        expMJD\n",
       "obsHistID                     \n",
       "165827         r  49561.251252\n",
       "165828         r  49561.251681\n",
       "165829         r  49561.252109\n",
       "165830         r  49561.252526\n",
       "165831         r  49561.252942"
      ]
     },
     "execution_count": 14,
     "metadata": {},
     "output_type": "execute_result"
    }
   ],
   "source": [
    "x[['filter', 'expMJD']].head()"
   ]
  },
  {
   "cell_type": "code",
   "execution_count": 15,
   "metadata": {
    "collapsed": false
   },
   "outputs": [],
   "source": [
    "dust = sncosmo.CCM89Dust()\n",
    "model = sncosmo.Model(source='salt2-extended', effects=[dust, dust],\n",
    "                               effect_names=['host', 'mw'],\n",
    "                               effect_frames=['rest', 'obs'])"
   ]
  },
  {
   "cell_type": "code",
   "execution_count": 16,
   "metadata": {
    "collapsed": false
   },
   "outputs": [],
   "source": [
    "model.set(z=1.0, c=0., x1=0., t0=49603)\n",
    "model.set_source_peakabsmag(-19.3, 'bessellb', 'ab')"
   ]
  },
  {
   "cell_type": "code",
   "execution_count": 17,
   "metadata": {
    "collapsed": false
   },
   "outputs": [
    {
     "name": "stdout",
     "output_type": "stream",
     "text": [
      "<Model at 0x10e173ed0>\n",
      "source:\n",
      "  class      : SALT2Source\n",
      "  name       : 'salt2-extended'\n",
      "  version    : 1.0\n",
      "  phases     : [-20, .., 50] days\n",
      "  wavelengths: [300, .., 18000] Angstroms\n",
      "effect (name='host' frame='rest'):\n",
      "  class           : CCM89Dust\n",
      "  wavelength range: [909.09, 33333.3] Angstroms\n",
      "effect (name='mw' frame='obs'):\n",
      "  class           : CCM89Dust\n",
      "  wavelength range: [909.09, 33333.3] Angstroms\n",
      "parameters:\n",
      "  z       = 1.0\n",
      "  t0      = 49603.0\n",
      "  x0      = 1.8469279661995543e-06\n",
      "  x1      = 0.0\n",
      "  c       = 0.0\n",
      "  hostebv = 0.0\n",
      "  hostr_v = 3.1000000000000001\n",
      "  mwebv   = 0.0\n",
      "  mwr_v   = 3.1000000000000001\n"
     ]
    }
   ],
   "source": [
    "print model"
   ]
  },
  {
   "cell_type": "code",
   "execution_count": 18,
   "metadata": {
    "collapsed": false
   },
   "outputs": [],
   "source": [
    "import os\n",
    "throughputsDir = os.getenv('THROUGHPUTSDIR')"
   ]
  },
  {
   "cell_type": "code",
   "execution_count": 19,
   "metadata": {
    "collapsed": false
   },
   "outputs": [],
   "source": [
    "bandPassList = ['u', 'g', 'r', 'i', 'z', 'y']\n",
    "banddir = os.path.join(os.getenv('THROUGHPUTS_DIR'), 'baseline')\n",
    "# lsstbands = list()\n",
    "# lsstbp = dict()\n",
    "\n",
    "for band in bandPassList:\n",
    "\n",
    "    # setup sncosmo bandpasses\n",
    "    bandfname = banddir + \"/total_\" + band + '.dat'\n",
    "\n",
    "\n",
    "    # register the LSST bands to the SNCosmo registry\n",
    "    # Not needed for LSST, but useful to compare independent codes\n",
    "    # Usually the next two lines can be merged,\n",
    "    # but there is an astropy bug currently which affects only OSX.\n",
    "    numpyband = np.loadtxt(bandfname)\n",
    "    sncosmoband = sncosmo.Bandpass(wave=numpyband[:, 0],\n",
    "                                   trans=numpyband[:, 1],\n",
    "                                   wave_unit=Unit('nm'),\n",
    "                                   name='LSST_' + band)\n",
    "\n",
    "    sncosmo.registry.register(sncosmoband, force=True)"
   ]
  },
  {
   "cell_type": "code",
   "execution_count": 20,
   "metadata": {
    "collapsed": false
   },
   "outputs": [],
   "source": [
    "times = np.arange(-20., 50., 1.)"
   ]
  },
  {
   "cell_type": "code",
   "execution_count": 21,
   "metadata": {
    "collapsed": true
   },
   "outputs": [],
   "source": [
    "times=x.expMJD.values\n",
    "bands = x['filter'].apply(lambda x: 'LSST_' + x)"
   ]
  },
  {
   "cell_type": "code",
   "execution_count": 22,
   "metadata": {
    "collapsed": false
   },
   "outputs": [
    {
     "data": {
      "text/plain": [
       "array([         nan,          nan,          nan,          nan,\n",
       "                nan,          nan,          nan,          nan,\n",
       "                nan,          nan,          nan,          nan,\n",
       "                nan,          nan,          nan,          nan,\n",
       "                nan,          nan,          nan,          nan,\n",
       "                nan,          nan,          nan,          nan,\n",
       "                nan,          nan,          nan,          nan,\n",
       "                nan,          nan,          nan,          nan,\n",
       "                nan,          nan,          nan,          nan,\n",
       "                nan,          nan,          nan,          nan,\n",
       "        26.66213442,  26.66206235,  26.66199028,  26.66191805,\n",
       "        26.66184801,  26.66177579,  26.66170373,  26.6616337 ,\n",
       "        26.66156351,  26.66149331,  26.66142329,  26.66135108,\n",
       "        26.66127905,  26.66120886,  26.66113683,  26.66106666,\n",
       "        26.66099665,  26.66092463,  26.66085244,  26.66078043,\n",
       "        25.55847234,  25.55845245,  25.55843257,  25.55841215,\n",
       "        25.55839227,  25.55837244,  25.55835255,  25.55833215,\n",
       "        25.55831175,  25.5582913 ,  25.55827148,  25.55825161,\n",
       "        25.55823174,  25.55821191,  25.55819205,  25.55817166,\n",
       "        25.5581518 ,  25.55813198,  25.55811155,  25.55809117,\n",
       "        25.46345408,  25.46344568,  25.46343727,  25.46342888,\n",
       "        25.46342049,  25.4634121 ,  25.4634037 ,  25.46339532,\n",
       "        25.46338693,  25.46337855,  25.46337015,  25.46336178,\n",
       "        25.4633534 ,  25.46334503,  25.46333663,  25.4633285 ,\n",
       "        25.46332034,  25.46331198,  25.46330361,  25.46329523,\n",
       "        25.4431131 ,  25.44311491,  25.44311678,  25.44311864,\n",
       "        25.44312051,  25.44312238,  25.44312425,  25.44312612,\n",
       "        25.44312794,  25.44312981,  25.44313169,  25.44313356,\n",
       "        25.44313544,  25.44313732,  25.4431392 ,  25.44314108,\n",
       "        25.44314296,  25.44314485,  25.44314673,  25.44314856,\n",
       "        25.93479502,  25.93482312,  25.93485122,  25.93487926,\n",
       "        25.93490736,  25.93493546,  25.9349635 ,  25.9349916 ,\n",
       "        25.93501971,  25.93504774,  25.93507585,  25.93510395,\n",
       "        25.93513199,  25.93516009,  25.9351882 ,  25.93521624,\n",
       "        25.93524434,  25.93527245,  25.93530049,  25.9353286 ,\n",
       "        26.1471712 ,  26.14720052,  26.14722984,  26.1472591 ,\n",
       "        26.14728842,  26.14731774,  26.14734699,  26.14737631,\n",
       "        26.14740564,  26.14743489,  26.14746421,  26.14749353,\n",
       "        26.14752279,  26.14755211,  26.14758143,  26.14761068,\n",
       "        26.14764   ,  26.14766933,  26.14769858,  26.1477279 ,\n",
       "        26.60889136,  26.60891918,  26.60894614,  26.60897396,\n",
       "        26.6090017 ,  26.60902867,  26.60905648,  26.60908423,\n",
       "        26.60911126,  26.60913901,  26.60916676,  26.6091945 ,\n",
       "        26.60922232,  26.60925006,  26.60927781,  26.60930556,\n",
       "        26.60933337,  26.60936034,  26.60938809,  26.6094159 ,\n",
       "        26.86797303,  26.86800126,  26.86802949,  26.86805846,\n",
       "        26.86808744,  26.86811641,  26.86814546,  26.86817443,\n",
       "        26.86820341,  26.86823164,  26.86826062,  26.86828959,\n",
       "        26.86831857,  26.86834762,  26.86837578,  26.86840483,\n",
       "        26.86843299,  26.86846204,  26.86849102,  26.86852   ,\n",
       "        27.15017807,  27.15020961,  27.15024122,  27.15027275,\n",
       "        27.15030429,  27.15033502,  27.15036567,  27.15039728,\n",
       "        27.15042794,  27.15045947,  27.15049109,  27.15052262,\n",
       "        27.15055335,  27.15058489,  27.15061643,  27.15064797,\n",
       "        27.1506787 ,  27.15071025,  27.15074179,  27.1507734 ,\n",
       "        27.83989084,  27.83990802,  27.83992516,  27.83994185,\n",
       "        27.83995899,  27.83997612,  27.83999326,  27.84001043,\n",
       "        27.84002709,  27.84004423,  27.8400614 ,  27.84007854,\n",
       "        27.84009567,  27.84011281,  27.8401295 ,  27.84014664,\n",
       "        27.84016333,  27.84018047,  27.84019761,  27.84021478,\n",
       "        27.9621033 ,  27.96212344,  27.96214359,  27.96216374,\n",
       "        27.96218337,  27.96220351,  27.96222366,  27.96224386,\n",
       "        27.96226402,  27.96228417,  27.96230381,  27.96232397,\n",
       "        27.96234413,  27.96236429,  27.96238393,  27.96240357,\n",
       "        27.96242374,  27.96244391,  27.96246355,  27.96248372,\n",
       "        28.69771981,  28.6977548 ,  28.69779072,  28.69782571,\n",
       "        28.69786162,  28.69789661,  28.69793151,  28.69796751,\n",
       "        28.69800341,  28.69803932,  28.6980743 ,  28.6981102 ,\n",
       "        28.6981461 ,  28.698182  ,  28.69821798,  28.69825287,\n",
       "        28.69828885,  28.69832373,  28.69835962,  28.6983956 ])"
      ]
     },
     "execution_count": 22,
     "metadata": {},
     "output_type": "execute_result"
    }
   ],
   "source": [
    "model.bandmag(time=times, band=bands, magsys='ab')"
   ]
  },
  {
   "cell_type": "code",
   "execution_count": 23,
   "metadata": {
    "collapsed": false
   },
   "outputs": [],
   "source": [
    "x['bandmag'] = model.bandmag(time=times, band=bands, magsys='ab')"
   ]
  },
  {
   "cell_type": "code",
   "execution_count": 35,
   "metadata": {
    "collapsed": false
   },
   "outputs": [
    {
     "data": {
      "text/html": [
       "<div style=\"max-height:1000px;max-width:1500px;overflow:auto;\">\n",
       "<table border=\"1\" class=\"dataframe\">\n",
       "  <thead>\n",
       "    <tr style=\"text-align: right;\">\n",
       "      <th></th>\n",
       "      <th>expMJD</th>\n",
       "      <th>filter</th>\n",
       "      <th>finSeeing</th>\n",
       "      <th>bandmag</th>\n",
       "    </tr>\n",
       "    <tr>\n",
       "      <th>obsHistID</th>\n",
       "      <th></th>\n",
       "      <th></th>\n",
       "      <th></th>\n",
       "      <th></th>\n",
       "    </tr>\n",
       "  </thead>\n",
       "  <tbody>\n",
       "    <tr>\n",
       "      <th>165827</th>\n",
       "      <td>49561.251252</td>\n",
       "      <td>r</td>\n",
       "      <td>0.962640</td>\n",
       "      <td>NaN</td>\n",
       "    </tr>\n",
       "    <tr>\n",
       "      <th>165828</th>\n",
       "      <td>49561.251681</td>\n",
       "      <td>r</td>\n",
       "      <td>0.962342</td>\n",
       "      <td>NaN</td>\n",
       "    </tr>\n",
       "    <tr>\n",
       "      <th>165829</th>\n",
       "      <td>49561.252109</td>\n",
       "      <td>r</td>\n",
       "      <td>0.951342</td>\n",
       "      <td>NaN</td>\n",
       "    </tr>\n",
       "    <tr>\n",
       "      <th>165830</th>\n",
       "      <td>49561.252526</td>\n",
       "      <td>r</td>\n",
       "      <td>0.951072</td>\n",
       "      <td>NaN</td>\n",
       "    </tr>\n",
       "    <tr>\n",
       "      <th>165831</th>\n",
       "      <td>49561.252942</td>\n",
       "      <td>r</td>\n",
       "      <td>0.950811</td>\n",
       "      <td>NaN</td>\n",
       "    </tr>\n",
       "  </tbody>\n",
       "</table>\n",
       "</div>"
      ],
      "text/plain": [
       "                 expMJD filter  finSeeing  bandmag\n",
       "obsHistID                                         \n",
       "165827     49561.251252      r   0.962640      NaN\n",
       "165828     49561.251681      r   0.962342      NaN\n",
       "165829     49561.252109      r   0.951342      NaN\n",
       "165830     49561.252526      r   0.951072      NaN\n",
       "165831     49561.252942      r   0.950811      NaN"
      ]
     },
     "execution_count": 35,
     "metadata": {},
     "output_type": "execute_result"
    }
   ],
   "source": [
    "x[['expMJD', 'filter', 'finSeeing', 'bandmag']].head()"
   ]
  },
  {
   "cell_type": "code",
   "execution_count": 33,
   "metadata": {
    "collapsed": false
   },
   "outputs": [
    {
     "data": {
      "text/plain": [
       "Index([u'sessionID', u'propID', u'fieldID', u'fieldRA', u'fieldDec', u'filter', u'expDate', u'expMJD', u'night', u'visitTime', u'visitExpTime', u'finRank', u'finSeeing', u'transparency', u'airmass', u'vSkyBright', u'filtSkyBrightness', u'rotSkyPos', u'lst', u'altitude', u'azimuth', u'dist2Moon', u'solarElong', u'moonRA', u'moonDec', u'moonAlt', u'moonAZ', u'moonPhase', u'sunAlt', u'sunAz', u'phaseAngle', u'rScatter', u'mieScatter', u'moonIllum', u'moonBright', u'darkBright', u'rawSeeing', u'wind', u'humidity', u'slewDist', u'slewTime', u'fiveSigmaDepth', u'ditheredRA', u'ditheredDec', u'bandmag'], dtype='object')"
      ]
     },
     "execution_count": 33,
     "metadata": {},
     "output_type": "execute_result"
    }
   ],
   "source": [
    "x.columns"
   ]
  },
  {
   "cell_type": "code",
   "execution_count": 37,
   "metadata": {
    "collapsed": false
   },
   "outputs": [],
   "source": [
    "x[['expMJD', 'filter', 'finSeeing', 'bandmag']].to_csv('/Users/rbiswas/doc/projects/meetings/DESC_2015_ANL/hack/hackday_10302015/SN_opsim.csv', index_label='obsHistID', na_rep='nan')"
   ]
  },
  {
   "cell_type": "code",
   "execution_count": 38,
   "metadata": {
    "collapsed": true
   },
   "outputs": [],
   "source": [
    "moretimes=np.arange(49603-50., 49603 + 50., 1.)"
   ]
  },
  {
   "cell_type": "code",
   "execution_count": 39,
   "metadata": {
    "collapsed": false
   },
   "outputs": [
    {
     "data": {
      "text/plain": [
       "[<matplotlib.lines.Line2D at 0x10f23d7d0>]"
      ]
     },
     "execution_count": 39,
     "metadata": {},
     "output_type": "execute_result"
    },
    {
     "data": {
      "image/png": "[encoded data removed]",
      "text/plain": [
       "<matplotlib.figure.Figure at 0x10db26910>"
      ]
     },
     "metadata": {},
     "output_type": "display_data"
    }
   ],
   "source": [
    "ax = x[x['filter']=='r'].plot(x='expMJD', y='bandmag', kind='scatter')\n",
    "ax.invert_yaxis()\n",
    "ax.set_ylim(ymin=30.)\n",
    "ax.plot(moretimes, model.bandmag(time=moretimes, band='LSST_r', magsys='ab'))"
   ]
  },
  {
   "cell_type": "markdown",
   "metadata": {},
   "source": [
    "### Scratch"
   ]
  },
  {
   "cell_type": "code",
   "execution_count": 27,
   "metadata": {
    "collapsed": false
   },
   "outputs": [],
   "source": [
    "#band = ['LSST_u', 'LSST_g', 'LSST_r', 'LSST_i', 'LSST_z', 'LSST_y'] \n",
    "#bands = band * len(times)\n",
    "lcdict = dict()\n",
    "lcdict['time'] = times\n",
    "lcdict['u'] = model.bandmag(time=times.tolist() , band='LSST_u', magsys='ab')\n",
    "lcdict['g'] = model.bandmag(time=times.tolist() , band='LSST_g', magsys='ab')\n",
    "lcdict['r'] = model.bandmag(time=times.tolist() , band='LSST_r', magsys='ab')\n",
    "lcdict['i'] = model.bandmag(time=times.tolist() , band='LSST_i', magsys='ab')\n",
    "lcdict['z'] = model.bandmag(time=times.tolist() , band='LSST_z', magsys='ab')\n",
    "lcdict['y'] = model.bandmag(time=times.tolist() , band='LSST_y', magsys='ab')"
   ]
  },
  {
   "cell_type": "code",
   "execution_count": 28,
   "metadata": {
    "collapsed": false
   },
   "outputs": [],
   "source": [
    "import pandas as pd\n",
    "lc = pd.DataFrame(lcdict)"
   ]
  },
  {
   "cell_type": "code",
   "execution_count": 29,
   "metadata": {
    "collapsed": false
   },
   "outputs": [
    {
     "ename": "SyntaxError",
     "evalue": "invalid syntax (<ipython-input-29-afa1213bd834>, line 1)",
     "output_type": "error",
     "traceback": [
      "\u001b[0;36m  File \u001b[0;32m\"<ipython-input-29-afa1213bd834>\"\u001b[0;36m, line \u001b[0;32m1\u001b[0m\n\u001b[0;31m    ax = .plot(x='time', y=['r', 'i', 'z'])\u001b[0m\n\u001b[0m         ^\u001b[0m\n\u001b[0;31mSyntaxError\u001b[0m\u001b[0;31m:\u001b[0m invalid syntax\n"
     ]
    }
   ],
   "source": [
    "ax = .plot(x='time', y=['r', 'i', 'z'])\n",
    "ax.invert_yaxis()"
   ]
  },
  {
   "cell_type": "code",
   "execution_count": null,
   "metadata": {
    "collapsed": true
   },
   "outputs": [],
   "source": [
    "lc.to_csv('SN_z1.csv')"
   ]
  },
  {
   "cell_type": "code",
   "execution_count": 30,
   "metadata": {
    "collapsed": false
   },
   "outputs": [
    {
     "name": "stdout",
     "output_type": "stream",
     "text": [
      "/Users/rbiswas/doc/projects/meetings/DESC_2015_ANL/hack\r\n"
     ]
    }
   ],
   "source": [
    "!pwd"
   ]
  }
 ],
 "metadata": {
  "kernelspec": {
   "display_name": "Python 2",
   "language": "python",
   "name": "python2"
  },
  "language_info": {
   "codemirror_mode": {
    "name": "ipython",
    "version": 2
   },
   "file_extension": ".py",
   "mimetype": "text/x-python",
   "name": "python",
   "nbconvert_exporter": "python",
   "pygments_lexer": "ipython2",
   "version": "2.7.11"
  }
 },
 "nbformat": 4,
 "nbformat_minor": 0
}
