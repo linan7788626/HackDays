{
 "cells": [
  {
   "cell_type": "code",
   "execution_count": 1,
   "metadata": {
    "collapsed": false
   },
   "outputs": [
    {
     "name": "stderr",
     "output_type": "stream",
     "text": [
      "/home/nli/miniconda2/lib/python2.7/site-packages/matplotlib/__init__.py:872: UserWarning: axes.color_cycle is deprecated and replaced with axes.prop_cycle; please use the latter.\n",
      "  warnings.warn(self.msg_depr % (key, alt_key))\n"
     ]
    }
   ],
   "source": [
    "%load_ext autoreload\n",
    "%autoreload 2\n",
    "%matplotlib inline\n",
    "\n",
    "import matplotlib.pyplot as plt\n",
    "import numpy as np\n",
    "import astropy.io.fits as pyfits\n",
    "import subprocess as sp\n",
    "import sys\n",
    "import os\n",
    "\n",
    "fits_dir = \"./fits_outputs_1/\"\n",
    "model_dir = \"./models_outputs/\"\n",
    "num_imgs = 100\n"
   ]
  },
  {
   "cell_type": "code",
   "execution_count": 2,
   "metadata": {
    "collapsed": false
   },
   "outputs": [
    {
     "data": {
      "text/plain": [
       "<matplotlib.contour.QuadContourSet at 0x7fe15faab650>"
      ]
     },
     "execution_count": 2,
     "metadata": {},
     "output_type": "execute_result"
    },
    {
     "data": {
      "image/png": "[encoded data removed]",
      "text/plain": [
       "<matplotlib.figure.Figure at 0x7fe17813f650>"
      ]
     },
     "metadata": {},
     "output_type": "display_data"
    }
   ],
   "source": [
    "def load_in_data(input_dir, n_images):\n",
    "    cmd = \"ls \"+input_dir\n",
    "    fits_list = sp.check_output(cmd,shell=True)\n",
    "\n",
    "    fits_files = fits_list.split('\\n')[:-1]\n",
    "\n",
    "    parameters = []\n",
    "    images = []\n",
    "    for i in fits_files[:n_images]:\n",
    "        ftmp = i.split('_')\n",
    "        parameters.append(np.array(ftmp[1:-1]).astype(\"float32\"))\n",
    "        fname = input_dir+i\n",
    "        itmp = pyfits.getdata(fname)\n",
    "        images.append(np.array(itmp).astype(\"float32\"))\n",
    "\n",
    "    return np.array(images), np.array(parameters)\n",
    "\n",
    "imgs, pars = load_in_data(fits_dir, num_imgs)\n",
    "X = imgs.reshape(imgs.shape[0], 1, imgs.shape[1], imgs.shape[2])\n",
    "\n",
    "# plot for test\n",
    "fig = plt.figure( figsize= (15, 15) )\n",
    "\n",
    "fig.add_subplot(331)\n",
    "plt.contourf(imgs[0])\n",
    "\n",
    "fig.add_subplot(332)\n",
    "plt.contourf(imgs[1])\n",
    "\n",
    "fig.add_subplot(333)\n",
    "plt.contourf(imgs[2])\n",
    "\n",
    "fig.add_subplot(334)\n",
    "plt.contourf(imgs[3])\n",
    "\n",
    "fig.add_subplot(335)\n",
    "plt.contourf(imgs[4])\n",
    "\n",
    "fig.add_subplot(336)\n",
    "plt.contourf(imgs[5])\n",
    "\n",
    "fig.add_subplot(337)\n",
    "plt.contourf(imgs[6])\n",
    "\n",
    "fig.add_subplot(338)\n",
    "plt.contourf(imgs[7])\n",
    "\n",
    "fig.add_subplot(339)\n",
    "plt.contourf(imgs[8])"
   ]
  },
  {
   "cell_type": "code",
   "execution_count": 3,
   "metadata": {
    "collapsed": false
   },
   "outputs": [
    {
     "name": "stdout",
     "output_type": "stream",
     "text": [
      "(-0.47093362, 0.49937037)\n",
      "(-0.49826178, 0.49891335)\n",
      "(0.50087494, 0.99933285)\n",
      "(1.0090492, 3.9816802)\n",
      "(6.4458728, 349.87756)\n",
      "\n",
      "(0.50087494, 0.99933285)\n",
      "(1.0090492, 3.9816802)\n",
      "(6.4458728, 349.87756)\n",
      "\n",
      "Range of each Y\n",
      "(0.17498732, 99.86657)\n",
      "(0.30163926, 99.389336)\n",
      "(1.7905202, 97.18821)\n"
     ]
    }
   ],
   "source": [
    "def Range(x):\n",
    "    return ( np.min(x), np.max(x) )\n",
    "\n",
    "for i in xrange( pars.shape[1]):\n",
    "    print Range( pars[:,i])\n",
    "print\n",
    "\n",
    "Y = pars[:, [2, 3, 4]]\n",
    "for i in xrange( Y.shape[1]):\n",
    "    print Range( Y[:,i])\n",
    "print \n",
    "    \n",
    "Y[:,0] = ( Y[:,0] - 0.5 ) / 0.5 * 100.0\n",
    "Y[:,1] = ( Y[:,1] - 1.0 ) / 3.0 * 100.0\n",
    "#Y[:,1] = ( Y[:,1] - 200.0 )\n",
    "Y[:,2] = ( Y[:,2] )/360.0*100.0\n",
    "\n",
    "print 'Range of each Y'\n",
    "for i in xrange( Y.shape[1]):\n",
    "    print Range( Y[:,i])\n",
    "    \n",
    "Y = Y[:,1]"
   ]
  },
  {
   "cell_type": "code",
   "execution_count": 4,
   "metadata": {
    "collapsed": false
   },
   "outputs": [
    {
     "name": "stderr",
     "output_type": "stream",
     "text": [
      "Using gpu device 0: Tesla K40c (CNMeM is disabled, cuDNN 5103)\n",
      "/home/nli/.local/lib/python2.7/site-packages/theano/sandbox/cuda/__init__.py:600: UserWarning: Your cuDNN version is more recent than the one Theano officially supports. If you see any problems, try updating Theano or downgrading cuDNN to version 5.\n",
      "  warnings.warn(warn)\n"
     ]
    }
   ],
   "source": [
    "####################\n",
    "#model part\n",
    "####################l\n",
    "import theano\n",
    "import theano.tensor as T\n",
    "import lasagne\n",
    "from lasagne.layers import Conv2DLayer as conv\n",
    "from lasagne.layers import MaxPool2DLayer as pool\n",
    "from lasagne.layers import DenseLayer as dense\n",
    "from lasagne.layers import DropoutLayer as dropout\n",
    "from lasagne.layers import BatchNormLayer as batchnorm\n",
    "\n",
    "from lasagne.nonlinearities import rectify\n",
    "from lasagne.regularization import l2, regularize_layer_params\n",
    "\n",
    "import string\n",
    "import cPickle\n",
    "\n",
    "def ReadModelFromFile(model, filename):\n",
    "    if not os.path.isfile(filename):\n",
    "        print (filename, \"not exist\")\n",
    "        sys.exit(-1)\n",
    "    f = open(filename, 'r')\n",
    "    data = cPickle.load(f)\n",
    "    lasagne.layers.set_all_param_values(model, data)\n",
    "\n",
    "def WriteModelToFile(model, filename):\n",
    "    data = lasagne.layers.get_all_param_values(model)\n",
    "    with open(filename, 'w') as f:\n",
    "        cPickle.dump(data, f)"
   ]
  },
  {
   "cell_type": "code",
   "execution_count": 5,
   "metadata": {
    "collapsed": false
   },
   "outputs": [],
   "source": [
    "##################################\n",
    "# model architecture parameters \n",
    "##################################\n",
    "\n",
    "# simple CNN  <== current\n",
    "# residual network  <== Next\n",
    "# residual network varies\n",
    "\n",
    "def BuildModel(x, img_size=500):\n",
    "    filter_size = [3,3,3,3,3,3]      # 3x3 or 5x5\n",
    "    pool_size =   [1,2,2,2,2,2]      # pooling \n",
    "    \n",
    "    num_filters = [16, 16, 32, 32, 32, 32] \n",
    "\n",
    "    n_layers = len(filter_size)\n",
    "    if any( [len(pool_size) != n_layers, len(num_filters)!=n_layers] ):\n",
    "        raise ValueError('num of layers should be consistent')\n",
    "\n",
    "    n_hiddens = [50, 100]      #[50, 50]        public\n",
    "\n",
    "    model = lasagne.layers.InputLayer(shape=(None, 1, img_size, img_size), input_var=x)\n",
    "\n",
    "    for i in xrange(n_layers):\n",
    "        model = conv( model, num_filters=num_filters[i], filter_size=(filter_size[i], filter_size[i]), \n",
    "                     nonlinearity=rectify, W=lasagne.init.GlorotUniform(), pad='same')\n",
    "        #model = batchnorm(model)\n",
    "        if pool_size[i] > 1:\n",
    "            model = pool(model, pool_size=(pool_size[i],pool_size[i]))\n",
    "\n",
    "    for i in xrange( len(n_hiddens) ):\n",
    "        model = dense(model, num_units = n_hiddens[i], nonlinearity=rectify)\n",
    "        #if dropout_rate > 0:\n",
    "        #    model = dropout(model, p = dropout_rate)\n",
    "    model = dense(model, num_units=1, nonlinearity=rectify)\n",
    "    return model"
   ]
  },
  {
   "cell_type": "code",
   "execution_count": 6,
   "metadata": {
    "collapsed": false
   },
   "outputs": [],
   "source": [
    "################################\n",
    "#model hyper parameters\n",
    "################################\n",
    "N_EPOCH = 100\n",
    "lambda_reg = 0.0001\n",
    "img_size = 500\n",
    "\n",
    "\n",
    "\n",
    "x = T.tensor4('input image')\n",
    "y = T.vector('output')\n",
    "l_out = BuildModel(x, img_size)   #model name"
   ]
  },
  {
   "cell_type": "code",
   "execution_count": 7,
   "metadata": {
    "collapsed": false
   },
   "outputs": [
    {
     "name": "stdout",
     "output_type": "stream",
     "text": [
      "number of parameters in private model is 400115\n",
      "InputLayer                       (None, 1, 500, 500)\n",
      "Conv2DLayer                      (None, 16, 500, 500)\n",
      "Conv2DLayer                      (None, 16, 500, 500)\n",
      "MaxPool2DLayer                   (None, 16, 250, 250)\n",
      "Conv2DLayer                      (None, 32, 250, 250)\n",
      "MaxPool2DLayer                   (None, 32, 125, 125)\n",
      "Conv2DLayer                      (None, 32, 125, 125)\n",
      "MaxPool2DLayer                   (None, 32, 62, 62)\n",
      "Conv2DLayer                      (None, 32, 62, 62)\n",
      "MaxPool2DLayer                   (None, 32, 31, 31)\n",
      "Conv2DLayer                      (None, 32, 31, 31)\n",
      "MaxPool2DLayer                   (None, 32, 15, 15)\n",
      "DenseLayer                       (None, 50)\n",
      "DenseLayer                       (None, 100)\n",
      "DenseLayer                       (None, 1)\n"
     ]
    }
   ],
   "source": [
    "pred_train = lasagne.layers.get_output(l_out, deterministic=False)\n",
    "pred_test = lasagne.layers.get_output(l_out, deterministic=True)\n",
    "all_layers = lasagne.layers.get_all_layers(l_out)\n",
    "print 'number of parameters in private model is', lasagne.layers.count_params(l_out)\n",
    "\n",
    "#print shape information for each layer\n",
    "for l in all_layers:\n",
    "    name = string.ljust(l.__class__.__name__, 32)\n",
    "    print \"%s %s\" %(name, lasagne.layers.get_output_shape(l))   \n",
    "f_test = theano.function([x], pred_test)"
   ]
  },
  {
   "cell_type": "code",
   "execution_count": 8,
   "metadata": {
    "collapsed": false,
    "scrolled": false
   },
   "outputs": [
    {
     "name": "stdout",
     "output_type": "stream",
     "text": [
      "compiling models... may take a while...\n"
     ]
    }
   ],
   "source": [
    "params = lasagne.layers.get_all_params(l_out, trainable=True, regularizable=True)\n",
    "\n",
    "print 'compiling models... may take a while...'\n",
    "mse_loss = lasagne.objectives.squared_error(y, pred_train)\n",
    "    \n",
    "reg_loss = regularize_layer_params(l_out, l2) * lambda_reg\n",
    "loss = T.mean(mse_loss) + reg_loss\n",
    "updates = lasagne.updates.adam(loss, params, learning_rate=0.0001)\n",
    "train_model = theano.function([x, y], [loss, mse_loss.mean(), reg_loss], updates=updates)\n",
    "\n",
    "mse_loss_test = lasagne.objectives.squared_error(y, pred_test).mean()\n",
    "test_model = theano.function([x,y], [loss, mse_loss_test])"
   ]
  },
  {
   "cell_type": "code",
   "execution_count": 9,
   "metadata": {
    "collapsed": false
   },
   "outputs": [
    {
     "name": "stdout",
     "output_type": "stream",
     "text": [
      "100 / 100"
     ]
    }
   ],
   "source": [
    "def Fit(train_model, X_train, Y_train, N_EPOCH = 5, batch_size = 1, write_to='./', \\\n",
    "        test_model=None, X_valid=None, Y_valid=None, batch_valid=1):\n",
    "    \n",
    "    if not os.path.isdir(write_to):\n",
    "        raise ValueError('path not exists: ' + write_to)\n",
    "    n_round = X_train.shape[0]/ batch_size + (X_train.shape[0] % batch_size > 0)\n",
    "\n",
    "    loss_train = []\n",
    "    loss_valid = []\n",
    "    \n",
    "    for e in xrange(N_EPOCH):\n",
    "        sys.stdout.write(\"\\r%d / %d\" % (e+1, N_EPOCH ) )\n",
    "        sys.stdout.flush()\n",
    "        \n",
    "        loss_epoch = []\n",
    "        for idx in xrange( n_round ):\n",
    "            start_index = idx * batch_size; end_index = (idx+1) * batch_size\n",
    "            if end_index > X_train.shape[0]-1: \n",
    "                end_index = X_train.shape[0]-1\n",
    "            if start_index >= end_index:\n",
    "                continue           \n",
    "            #print('dealing', start_index, 'to', end_index)\n",
    "            tmp = train_model(X_train[start_index:end_index], Y[start_index:end_index])\n",
    "            loss_epoch.append( np.array( tmp ) )\n",
    "        loss_train.append( np.mean( np.row_stack(loss_epoch), 0 ) )\n",
    "        WriteModelToFile(l_out, os.path.join(write_to, str(e+1)+'.pkl') )\n",
    "        \n",
    "        if test_model is None:  \n",
    "            continue\n",
    "        if X_valid is None or Y_valid is None:\n",
    "            raise ValueError('if test_mode is not None, X_valid or Y_valid cannot be None')\n",
    "            \n",
    "        n_round_valid = X_valid.shape[0]/ batch_valid + (X_valid.shape[0] % batch_valid > 0)\n",
    "\n",
    "        loss_epoch = []\n",
    "        for idx in xrange( n_round_valid ):\n",
    "            start_index = idx * batch_valid; end_index = (idx+1) * batch_valid\n",
    "            if end_index > X_valid.shape[0]-1: \n",
    "                end_index = X_valid.shape[0]-1\n",
    "            if start_index >= end_index:\n",
    "                continue           \n",
    "            #print('dealing', start_index, 'to', end_index)\n",
    "            tmp = test_model(X_valid[start_index:end_index], Y_valid[start_index:end_index])\n",
    "            loss_epoch.append( np.array( tmp ) )\n",
    "        loss_valid.append( np.mean( np.row_stack(loss_epoch), 0 ) )\n",
    "        \n",
    "    loss_train = np.array(loss_train)\n",
    "    if len( loss_valid ) >= 1:\n",
    "        loss_valid = np.array(loss_valid)\n",
    "        return loss_train, loss_valid\n",
    "    return loss_train\n",
    "\n",
    "\n",
    "train_index = range(0, 100); valid_index=range(80, 90); test_index=range(90, 10)\n",
    "loss_train, loss_valid = Fit(train_model, X[train_index], Y[train_index], \\\n",
    "                             N_EPOCH=100, batch_size=1, \\\n",
    "                             write_to=model_dir, \\\n",
    "                             test_model=test_model, \\\n",
    "                             X_valid =X[valid_index], Y_valid=Y[valid_index])"
   ]
  },
  {
   "cell_type": "code",
   "execution_count": 15,
   "metadata": {
    "collapsed": false
   },
   "outputs": [],
   "source": [
    "#updates_finetune = lasagne.updates.momentum(loss, params, learning_rate=0.00001, momentum=0.9)\n",
    "##改learning_rate    momentum可以试一下0.5\n",
    "#finetune_model = theano.function([x, y], [loss, mse_loss.mean() + reg_loss], updates=updates_finetune)\n",
    "##ReadModelFromFile(你觉得比较好的epoch)\n",
    "\n",
    "#loss_train, loss_valid = Fit(finetune_model, X[train_index], Y[train_index], \\\n",
    "#                             N_EPOCH=100, batch_size=1, \\\n",
    "#                             write_to=model_dir, \\\n",
    "#                             test_model=test_model, \\\n",
    "#                             X_valid =X[valid_index], Y_valid=Y[valid_index])"
   ]
  },
  {
   "cell_type": "code",
   "execution_count": 16,
   "metadata": {
    "collapsed": false
   },
   "outputs": [
    {
     "data": {
      "text/plain": [
       "<matplotlib.legend.Legend at 0x7fe113a50a10>"
      ]
     },
     "execution_count": 16,
     "metadata": {},
     "output_type": "execute_result"
    },
    {
     "data": {
      "image/png": "[encoded data removed]",
      "text/plain": [
       "<matplotlib.figure.Figure at 0x7fe113b49490>"
      ]
     },
     "metadata": {},
     "output_type": "display_data"
    }
   ],
   "source": [
    "fig = plt.figure( figsize=(14, 6) )\n",
    "fig.add_subplot(121)\n",
    "plt.plot( loss_train[:,0], 'o--')\n",
    "#plt.ylim(0,100)\n",
    "plt.title('Training')\n",
    "plt.xlabel(\"Epoch\")\n",
    "plt.ylabel(\"Loss\")\n",
    "plt.legend((\"Mean\",\"Ellipticity\",\"Einstein Radius\",\"Orientation\"),loc='upper right', shadow=True, fontsize='x-large')\n",
    "\n",
    "fig.add_subplot(122)\n",
    "plt.plot(loss_valid[:, 0], 'o--')\n",
    "#plt.ylim(0,3000)\n",
    "plt.title('Valid')\n",
    "plt.xlabel(\"Epoch\")\n",
    "plt.ylabel(\"Loss\")\n",
    "plt.legend((\"Mean\",\"Ellipticity\",\"Einstein Radius\",\"Orientation\"),loc='upper left', shadow=True, fontsize='x-large')\n"
   ]
  },
  {
   "cell_type": "code",
   "execution_count": 17,
   "metadata": {
    "collapsed": false
   },
   "outputs": [
    {
     "data": {
      "text/plain": [
       "array([[  3.57157227e+03,   3.57157227e+03,   1.99825139e-04],\n",
       "       [  1.66898596e+03,   1.66898596e+03,   2.05019867e-04],\n",
       "       [  1.04078015e+03,   1.04078003e+03,   2.05089833e-04],\n",
       "       [  9.75740601e+02,   9.75740601e+02,   2.05093937e-04],\n",
       "       [  9.34037964e+02,   9.34037903e+02,   2.04904718e-04],\n",
       "       [  9.00434875e+02,   9.00434570e+02,   2.04832177e-04],\n",
       "       [  8.71675720e+02,   8.71675293e+02,   2.04926691e-04],\n",
       "       [  8.45918152e+02,   8.45918091e+02,   2.05121993e-04],\n",
       "       [  8.22583801e+02,   8.22583740e+02,   2.05394579e-04],\n",
       "       [  7.98184326e+02,   7.98184265e+02,   2.05611737e-04],\n",
       "       [  7.74960144e+02,   7.74959900e+02,   2.05998149e-04],\n",
       "       [  7.50434082e+02,   7.50433777e+02,   2.06425524e-04],\n",
       "       [  7.27548706e+02,   7.27548584e+02,   2.06798650e-04],\n",
       "       [  7.01622070e+02,   7.01621826e+02,   2.07283359e-04],\n",
       "       [  6.76497864e+02,   6.76497559e+02,   2.07907098e-04],\n",
       "       [  6.51299255e+02,   6.51299011e+02,   2.08565427e-04],\n",
       "       [  6.25331177e+02,   6.25330994e+02,   2.09320351e-04],\n",
       "       [  5.98518250e+02,   5.98517944e+02,   2.10164362e-04],\n",
       "       [  5.71988281e+02,   5.71988037e+02,   2.10973405e-04],\n",
       "       [  5.46337769e+02,   5.46337585e+02,   2.11991603e-04],\n",
       "       [  5.21571899e+02,   5.21571716e+02,   2.13133681e-04],\n",
       "       [  4.98347382e+02,   4.98347229e+02,   2.14211817e-04],\n",
       "       [  4.73983002e+02,   4.73982727e+02,   2.15272652e-04],\n",
       "       [  4.51021637e+02,   4.51021332e+02,   2.16430650e-04],\n",
       "       [  4.28665375e+02,   4.28665131e+02,   2.17612906e-04],\n",
       "       [  4.06698822e+02,   4.06698639e+02,   2.18822024e-04],\n",
       "       [  3.86059509e+02,   3.86059296e+02,   2.20016329e-04],\n",
       "       [  3.64837921e+02,   3.64837708e+02,   2.21316208e-04],\n",
       "       [  3.44919434e+02,   3.44919281e+02,   2.22605726e-04],\n",
       "       [  3.25068390e+02,   3.25068146e+02,   2.23895229e-04],\n",
       "       [  3.04309357e+02,   3.04309235e+02,   2.25238327e-04],\n",
       "       [  2.86832825e+02,   2.86832520e+02,   2.26491611e-04],\n",
       "       [  2.67650696e+02,   2.67650482e+02,   2.27738055e-04],\n",
       "       [  2.50492737e+02,   2.50492477e+02,   2.28756136e-04],\n",
       "       [  2.33685928e+02,   2.33685638e+02,   2.29886689e-04],\n",
       "       [  2.17093079e+02,   2.17092865e+02,   2.30821694e-04],\n",
       "       [  2.00199829e+02,   2.00199631e+02,   2.31860904e-04],\n",
       "       [  1.84716705e+02,   1.84716461e+02,   2.32838807e-04],\n",
       "       [  1.70765442e+02,   1.70765167e+02,   2.33691331e-04],\n",
       "       [  1.58593048e+02,   1.58592834e+02,   2.34563660e-04],\n",
       "       [  1.46974319e+02,   1.46974060e+02,   2.35330459e-04],\n",
       "       [  1.34989014e+02,   1.34988800e+02,   2.36126434e-04],\n",
       "       [  1.27413857e+02,   1.27413696e+02,   2.36836553e-04],\n",
       "       [  1.18573219e+02,   1.18572998e+02,   2.37532455e-04],\n",
       "       [  1.12521309e+02,   1.12521103e+02,   2.37993067e-04],\n",
       "       [  1.12590950e+02,   1.12590683e+02,   2.38653913e-04],\n",
       "       [  1.14923386e+02,   1.14923096e+02,   2.38629815e-04],\n",
       "       [  1.30483078e+02,   1.30482788e+02,   2.39005167e-04],\n",
       "       [  1.13274948e+02,   1.13274658e+02,   2.38984299e-04],\n",
       "       [  1.03709297e+02,   1.03709030e+02,   2.39075889e-04],\n",
       "       [  8.15588303e+01,   8.15586090e+01,   2.39353685e-04],\n",
       "       [  8.23367081e+01,   8.23364639e+01,   2.39594985e-04],\n",
       "       [  7.24994049e+01,   7.24991531e+01,   2.39672139e-04],\n",
       "       [  7.99385071e+01,   7.99382706e+01,   2.40035239e-04],\n",
       "       [  7.20193176e+01,   7.20191040e+01,   2.40179608e-04],\n",
       "       [  7.46035538e+01,   7.46033249e+01,   2.40259178e-04],\n",
       "       [  6.69085007e+01,   6.69082489e+01,   2.40122637e-04],\n",
       "       [  6.65213242e+01,   6.65210724e+01,   2.40471287e-04],\n",
       "       [  8.16014099e+01,   8.16011810e+01,   2.40414942e-04],\n",
       "       [  1.10252655e+02,   1.10252434e+02,   2.40374342e-04],\n",
       "       [  1.10658684e+02,   1.10658463e+02,   2.40525289e-04],\n",
       "       [  7.69700699e+01,   7.69698563e+01,   2.40712849e-04],\n",
       "       [  8.82995453e+01,   8.82993240e+01,   2.40423120e-04],\n",
       "       [  6.07459526e+01,   6.07456779e+01,   2.40458132e-04],\n",
       "       [  4.19322701e+01,   4.19320297e+01,   2.40678506e-04],\n",
       "       [  4.87558136e+01,   4.87555695e+01,   2.40677982e-04],\n",
       "       [  3.52816086e+01,   3.52813644e+01,   2.40736117e-04],\n",
       "       [  3.37987022e+01,   3.37984581e+01,   2.40782218e-04],\n",
       "       [  4.01081314e+01,   4.01078911e+01,   2.40719994e-04],\n",
       "       [  4.02607231e+01,   4.02604752e+01,   2.40713212e-04],\n",
       "       [  4.50750961e+01,   4.50748596e+01,   2.40840745e-04],\n",
       "       [  5.04498024e+01,   5.04495544e+01,   2.40688634e-04],\n",
       "       [  8.13641129e+01,   8.13638916e+01,   2.40558613e-04],\n",
       "       [  8.38790131e+01,   8.38787842e+01,   2.40366833e-04],\n",
       "       [  6.08813515e+01,   6.08811302e+01,   2.40066016e-04],\n",
       "       [  6.18814964e+01,   6.18812408e+01,   2.39861023e-04],\n",
       "       [  4.63555717e+01,   4.63553276e+01,   2.39946545e-04],\n",
       "       [  3.11481915e+01,   3.11479492e+01,   2.39887813e-04],\n",
       "       [  4.17466164e+01,   4.17463799e+01,   2.39752699e-04],\n",
       "       [  2.77329273e+01,   2.77326889e+01,   2.39742614e-04],\n",
       "       [  2.60258083e+01,   2.60255680e+01,   2.39601504e-04],\n",
       "       [  2.45693054e+01,   2.45690651e+01,   2.39395129e-04],\n",
       "       [  2.90662785e+01,   2.90660381e+01,   2.39359288e-04],\n",
       "       [  3.50571976e+01,   3.50569611e+01,   2.39487868e-04],\n",
       "       [  4.94340324e+01,   4.94337730e+01,   2.39129004e-04],\n",
       "       [  5.63037415e+01,   5.63035049e+01,   2.38865177e-04],\n",
       "       [  6.41879807e+01,   6.41877823e+01,   2.38765482e-04],\n",
       "       [  9.39928665e+01,   9.39925995e+01,   2.38287146e-04],\n",
       "       [  8.61911087e+01,   8.61908798e+01,   2.38018314e-04],\n",
       "       [  3.93938103e+01,   3.93935699e+01,   2.37980086e-04],\n",
       "       [  2.24751625e+01,   2.24749222e+01,   2.38003253e-04],\n",
       "       [  2.70388336e+01,   2.70385914e+01,   2.37753615e-04],\n",
       "       [  2.01831169e+01,   2.01828766e+01,   2.37705754e-04],\n",
       "       [  2.29871635e+01,   2.29869251e+01,   2.37548811e-04],\n",
       "       [  2.30026875e+01,   2.30024471e+01,   2.37308966e-04],\n",
       "       [  2.82825565e+01,   2.82823162e+01,   2.37105050e-04],\n",
       "       [  3.06009369e+01,   3.06007023e+01,   2.37095606e-04],\n",
       "       [  4.36425629e+01,   4.36423378e+01,   2.36710475e-04],\n",
       "       [  4.10870323e+01,   4.10867958e+01,   2.36534499e-04],\n",
       "       [  3.10434570e+01,   3.10432243e+01,   2.36427615e-04]], dtype=float32)"
      ]
     },
     "execution_count": 17,
     "metadata": {},
     "output_type": "execute_result"
    }
   ],
   "source": [
    "loss_train"
   ]
  },
  {
   "cell_type": "code",
   "execution_count": 18,
   "metadata": {
    "collapsed": false
   },
   "outputs": [],
   "source": [
    "f_pred = theano.function([x], pred_test)\n",
    "y_pred = []\n",
    "\n",
    "for i in xrange( len(imgs)):\n",
    "     y_pred.append( f_pred( X[i:i+1] ) )\n",
    "y_pred = np.array(y_pred)[:,0,0]"
   ]
  },
  {
   "cell_type": "code",
   "execution_count": 20,
   "metadata": {
    "collapsed": false,
    "scrolled": true
   },
   "outputs": [
    {
     "name": "stdout",
     "output_type": "stream",
     "text": [
      "('./models_outputs100.pkl', 'not exist')\n"
     ]
    },
    {
     "ename": "SystemExit",
     "evalue": "-1",
     "output_type": "error",
     "traceback": [
      "An exception has occurred, use %tb to see the full traceback.\n",
      "\u001b[0;31mSystemExit\u001b[0m\u001b[0;31m:\u001b[0m -1\n"
     ]
    }
   ],
   "source": [
    "def print_out_models(fileModel):\n",
    "    ReadModelFromFile(l_out, filename=fileModel)\n",
    "\n",
    "    #plot for training\n",
    "    np.set_printoptions(2)\n",
    "    fig = plt.figure( figsize= (15, 4) )\n",
    "\n",
    "    ell_factor = 1.0#/(100.0/0.5)+0.5\n",
    "    \n",
    "    fig.add_subplot(131)\n",
    "    plt.title('RE')\n",
    "    plt.xlim(0.5, 1.0)\n",
    "    plt.ylim(0.5, 1.0)\n",
    "    plt.plot(y_pred[train_index]*ell_factor, Y[train_index]*ell_factor, 'o')\n",
    "    plt.plot(np.linspace(0,149,150), np.linspace(0,149,150), \"r-\")\n",
    "    plt.axis([0, 150, 0, 150])\n",
    "    \n",
    "    if False:\n",
    "        eir_factor = 1.0#/(100.0)*3.0+1.0\n",
    "\n",
    "        fig.add_subplot(132)\n",
    "        plt.title('Einstein Radius')\n",
    "        plt.xlim(1.0,4.0)\n",
    "        plt.ylim(1.0,4.0)\n",
    "        plt.plot(y_pred[train_index,1]*eir_factor, Y[train_index,1]*eir_factor, 'o')\n",
    "        plt.plot(np.linspace(0,149,150), np.linspace(0,149,150), \"r-\")\n",
    "        plt.axis([0, 150, 0, 150])\n",
    "\n",
    "        pha_factor = 1.0#/(100.0)*360.0\n",
    "\n",
    "        fig.add_subplot(133)\n",
    "        plt.title('Orientations')\n",
    "        plt.xlim(0.0,360.0)\n",
    "        plt.ylim(0.0,360.0)\n",
    "        plt.plot(y_pred[train_index,2]*pha_factor, Y[train_index,2]*pha_factor, 'o')\n",
    "        plt.plot(np.linspace(0,149,150), np.linspace(0,149,150), \"r-\")\n",
    "        plt.axis([0, 150, 0, 150])\n",
    "\n",
    "        # plot for valid\n",
    "        fig = plt.figure( figsize= (15, 4) )\n",
    "\n",
    "        fig.add_subplot(131)\n",
    "        plt.title('Ellipticity')\n",
    "        plt.xlim(0.5, 1.0)\n",
    "        plt.ylim(0.5, 1.0)\n",
    "        plt.plot(y_pred[valid_index,0]*ell_factor, Y[valid_index,0]*ell_factor, 'o')\n",
    "        plt.plot(np.linspace(0,149,150), np.linspace(0,149,150), \"r-\")\n",
    "        plt.axis([0, 150, 0, 150])\n",
    "\n",
    "        fig.add_subplot(132)\n",
    "        plt.title('Einstein Radius')\n",
    "        plt.xlim(1.0,4.0)\n",
    "        plt.ylim(1.0,4.0)\n",
    "        plt.plot(y_pred[valid_index,1]*eir_factor, Y[valid_index,1]*eir_factor, 'o')\n",
    "        plt.plot(np.linspace(0,149,150), np.linspace(0,149,150), \"r-\")\n",
    "\n",
    "        plt.axis([0, 150, 0, 150])\n",
    "\n",
    "        fig.add_subplot(133)\n",
    "        plt.title('Orientations')\n",
    "        plt.xlim(0.0,360.0)\n",
    "        plt.ylim(0.0,360.0)\n",
    "        plt.plot(y_pred[valid_index,2]*pha_factor, Y[valid_index,2]*pha_factor, 'o')\n",
    "        plt.plot(np.linspace(0,149,150), np.linspace(0,149,150), \"r-\")\n",
    "\n",
    "        plt.axis([0, 150, 0, 150])\n",
    "\n",
    "         # plot for test\n",
    "        fig = plt.figure( figsize= (15, 4) )\n",
    "\n",
    "        fig.add_subplot(131)\n",
    "        plt.title('Ellipticity')\n",
    "        plt.xlim(0.5,1.0)\n",
    "        plt.ylim(0.5,1.0)\n",
    "        plt.plot(y_pred[test_index,0]*ell_factor, Y[test_index,0]*ell_factor, 'o')\n",
    "        plt.plot(np.linspace(0,149,150), np.linspace(0,149,150), \"r-\")\n",
    "        plt.axis([0, 150, 0, 150])\n",
    "\n",
    "        fig.add_subplot(132)\n",
    "        plt.title('Einstein Radius')\n",
    "        plt.xlim(1.0,4.0)\n",
    "        plt.ylim(1.0,4.0)\n",
    "        plt.plot(y_pred[test_index,1]*eir_factor, Y[test_index,1]*eir_factor, 'o')\n",
    "        plt.plot(np.linspace(0,149,150), np.linspace(0,149,150), \"r-\")\n",
    "\n",
    "        plt.axis([0, 150, 0, 150])\n",
    "\n",
    "        fig.add_subplot(133)\n",
    "        plt.title('Orientations')\n",
    "        plt.xlim(0.0,360.0)\n",
    "        plt.ylim(0.0,360.0)\n",
    "        plt.plot(y_pred[test_index,2]*pha_factor, Y[test_index,2]*pha_factor, 'o')\n",
    "        plt.plot(np.linspace(0,149,150), np.linspace(0,149,150), \"r-\")\n",
    "\n",
    "        plt.axis([0, 150, 0, 150])\n",
    "\n",
    "        plt.legend()\n",
    "    \n",
    "print_out_models(model_dir+'/100.pkl')"
   ]
  },
  {
   "cell_type": "code",
   "execution_count": null,
   "metadata": {
    "collapsed": false
   },
   "outputs": [],
   "source": [
    "np.mean(  (Y - 46)**2 )"
   ]
  },
  {
   "cell_type": "code",
   "execution_count": null,
   "metadata": {
    "collapsed": false
   },
   "outputs": [],
   "source": [
    "np.mean(Y)"
   ]
  },
  {
   "cell_type": "code",
   "execution_count": null,
   "metadata": {
    "collapsed": false
   },
   "outputs": [],
   "source": [
    "model_dir"
   ]
  }
 ],
 "metadata": {
  "anaconda-cloud": {},
  "kernelspec": {
   "display_name": "Python 2",
   "language": "python",
   "name": "python2"
  },
  "language_info": {
   "codemirror_mode": {
    "name": "ipython",
    "version": 2
   },
   "file_extension": ".py",
   "mimetype": "text/x-python",
   "name": "python",
   "nbconvert_exporter": "python",
   "pygments_lexer": "ipython2",
   "version": "2.7.12"
  }
 },
 "nbformat": 4,
 "nbformat_minor": 0
}
